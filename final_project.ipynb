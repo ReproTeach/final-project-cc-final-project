{
 "cells": [
  {
   "cell_type": "markdown",
   "id": "8b750025-903e-443c-a7d2-2198a797cd7d",
   "metadata": {},
   "source": [
    "# Your Final Project Title\n",
    "\n",
    "- Member 1: Caren Chua\n",
    "- Member 2: Abby Salas \n",
    "- Member 3: Courtney Collins\n",
    "- Member 4: Arggin Avanessian"
   ]
  },
  {
   "cell_type": "markdown",
   "id": "db51adcb-6247-4475-80ae-074144a2014c",
   "metadata": {},
   "source": [
    "## Introduction"
   ]
  },
  {
   "cell_type": "markdown",
   "id": "804db080-2426-48e2-846d-0809e437d33b",
   "metadata": {},
   "source": [
    "## Research Question"
   ]
  },
  {
   "cell_type": "markdown",
   "id": "d4199ccc-a768-4818-ad23-31bd81ee3f65",
   "metadata": {
    "tags": []
   },
   "source": [
    "## Dataset Description"
   ]
  },
  {
   "cell_type": "markdown",
   "id": "0c69b87d-711f-4915-a51b-2f7ae2d10a6d",
   "metadata": {
    "tags": []
   },
   "source": [
    "## Preprocessing"
   ]
  },
  {
   "cell_type": "markdown",
   "id": "084cfe47-b34b-41a3-a7a2-aa8f46647e4a",
   "metadata": {
    "tags": []
   },
   "source": [
    "## Analysis"
   ]
  },
  {
   "cell_type": "markdown",
   "id": "3caef045-d958-4ebb-8268-e5ff6f2a090a",
   "metadata": {
    "tags": []
   },
   "source": [
    "## Visualization"
   ]
  },
  {
   "cell_type": "markdown",
   "id": "7e07b044-5631-420f-9e95-abb0c1155db5",
   "metadata": {
    "tags": []
   },
   "source": [
    "## Results/Findings"
   ]
  },
  {
   "cell_type": "markdown",
   "id": "bf9f697b-2a21-4460-b47c-b27a17a4db7e",
   "metadata": {
    "tags": []
   },
   "source": [
    "## Contribution"
   ]
  }
 ],
 "metadata": {
  "kernelspec": {
   "display_name": "Python 3 (ipykernel)",
   "language": "python",
   "name": "python3"
  },
  "language_info": {
   "codemirror_mode": {
    "name": "ipython",
    "version": 3
   },
   "file_extension": ".py",
   "mimetype": "text/x-python",
   "name": "python",
   "nbconvert_exporter": "python",
   "pygments_lexer": "ipython3",
   "version": "3.10.9"
  }
 },
 "nbformat": 4,
 "nbformat_minor": 5
}
