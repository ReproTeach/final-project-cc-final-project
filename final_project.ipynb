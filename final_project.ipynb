{
 "cells": [
  {
   "cell_type": "markdown",
   "id": "8b750025-903e-443c-a7d2-2198a797cd7d",
   "metadata": {},
   "source": [
    "# Your Final Project Title\n",
    "\n",
    "- Member 1: Caren Chua\n",
    "- Member 2: Abby Salas \n",
    "- Member 3: Courtney Collins\n",
    "- Member 4: Arggin Avanessian"
   ]
  },
  {
   "cell_type": "markdown",
   "id": "db51adcb-6247-4475-80ae-074144a2014c",
   "metadata": {},
   "source": [
    "## Introduction"
   ]
  },
  {
   "cell_type": "markdown",
   "id": "804db080-2426-48e2-846d-0809e437d33b",
   "metadata": {},
   "source": [
    "## Research Question"
   ]
  },
  {
   "cell_type": "markdown",
   "id": "9fd7a85e-bcd4-48bd-9a9e-fa5e30e4c114",
   "metadata": {},
   "source": [
    "#### Are more negative comments getting more engagement?"
   ]
  },
  {
   "cell_type": "markdown",
   "id": "cec06a0b-893c-4486-9c96-f7e4f96ed1df",
   "metadata": {
    "tags": []
   },
   "source": [
    "#### What is the optmial time to post to reach the largest audience on this subreddit"
   ]
  },
  {
   "cell_type": "markdown",
   "id": "d4199ccc-a768-4818-ad23-31bd81ee3f65",
   "metadata": {
    "tags": []
   },
   "source": [
    "## Dataset Description"
   ]
  },
  {
   "cell_type": "markdown",
   "id": "0c69b87d-711f-4915-a51b-2f7ae2d10a6d",
   "metadata": {
    "tags": []
   },
   "source": [
    "## Preprocessing"
   ]
  },
  {
   "cell_type": "code",
   "execution_count": 3,
   "id": "b342340a-ad32-4abe-a57e-ca4ba69f69a7",
   "metadata": {
    "tags": []
   },
   "outputs": [
    {
     "name": "stdout",
     "output_type": "stream",
     "text": [
      "Requirement already satisfied: nltk in /opt/conda/lib/python3.10/site-packages (3.8.1)\n",
      "Requirement already satisfied: click in /opt/conda/lib/python3.10/site-packages (from nltk) (8.1.3)\n",
      "Requirement already satisfied: regex>=2021.8.3 in /opt/conda/lib/python3.10/site-packages (from nltk) (2023.6.3)\n",
      "Requirement already satisfied: tqdm in /opt/conda/lib/python3.10/site-packages (from nltk) (4.65.0)\n",
      "Requirement already satisfied: joblib in /opt/conda/lib/python3.10/site-packages (from nltk) (1.2.0)\n"
     ]
    }
   ],
   "source": [
    "!pip install nltk"
   ]
  },
  {
   "cell_type": "code",
   "execution_count": 5,
   "id": "35518214-3f20-4b3d-9ed8-4da68ace7ea7",
   "metadata": {
    "tags": []
   },
   "outputs": [
    {
     "name": "stdout",
     "output_type": "stream",
     "text": [
      "Collecting textblob\n",
      "  Using cached textblob-0.17.1-py2.py3-none-any.whl (636 kB)\n",
      "Requirement already satisfied: nltk>=3.1 in /opt/conda/lib/python3.10/site-packages (from textblob) (3.8.1)\n",
      "Requirement already satisfied: click in /opt/conda/lib/python3.10/site-packages (from nltk>=3.1->textblob) (8.1.3)\n",
      "Requirement already satisfied: tqdm in /opt/conda/lib/python3.10/site-packages (from nltk>=3.1->textblob) (4.65.0)\n",
      "Requirement already satisfied: joblib in /opt/conda/lib/python3.10/site-packages (from nltk>=3.1->textblob) (1.2.0)\n",
      "Requirement already satisfied: regex>=2021.8.3 in /opt/conda/lib/python3.10/site-packages (from nltk>=3.1->textblob) (2023.6.3)\n",
      "Installing collected packages: textblob\n",
      "Successfully installed textblob-0.17.1\n"
     ]
    }
   ],
   "source": [
    "!pip install textblob"
   ]
  },
  {
   "cell_type": "code",
   "execution_count": 4,
   "id": "b1eb4e07-defe-4b7e-ad26-38d554f8baba",
   "metadata": {
    "tags": []
   },
   "outputs": [
    {
     "name": "stdout",
     "output_type": "stream",
     "text": [
      "Collecting gensim\n",
      "  Using cached gensim-4.3.1-cp310-cp310-manylinux_2_17_x86_64.manylinux2014_x86_64.whl (26.4 MB)\n",
      "Collecting smart-open>=1.8.1\n",
      "  Using cached smart_open-6.3.0-py3-none-any.whl (56 kB)\n",
      "Requirement already satisfied: scipy>=1.7.0 in /opt/conda/lib/python3.10/site-packages (from gensim) (1.10.1)\n",
      "Requirement already satisfied: numpy>=1.18.5 in /opt/conda/lib/python3.10/site-packages (from gensim) (1.24.2)\n",
      "Installing collected packages: smart-open, gensim\n",
      "Successfully installed gensim-4.3.1 smart-open-6.3.0\n"
     ]
    }
   ],
   "source": [
    "!pip install gensim"
   ]
  },
  {
   "cell_type": "code",
   "execution_count": 5,
   "id": "70cbd2ca-6a72-4f20-8230-9f60678a0f71",
   "metadata": {
    "tags": []
   },
   "outputs": [
    {
     "name": "stdout",
     "output_type": "stream",
     "text": [
      "Collecting wordcloud\n",
      "  Using cached wordcloud-1.9.2-cp310-cp310-manylinux_2_17_x86_64.manylinux2014_x86_64.whl (455 kB)\n",
      "Requirement already satisfied: matplotlib in /opt/conda/lib/python3.10/site-packages (from wordcloud) (3.7.1)\n",
      "Requirement already satisfied: pillow in /opt/conda/lib/python3.10/site-packages (from wordcloud) (9.4.0)\n",
      "Requirement already satisfied: numpy>=1.6.1 in /opt/conda/lib/python3.10/site-packages (from wordcloud) (1.24.2)\n",
      "Requirement already satisfied: kiwisolver>=1.0.1 in /opt/conda/lib/python3.10/site-packages (from matplotlib->wordcloud) (1.4.4)\n",
      "Requirement already satisfied: packaging>=20.0 in /opt/conda/lib/python3.10/site-packages (from matplotlib->wordcloud) (23.0)\n",
      "Requirement already satisfied: pyparsing>=2.3.1 in /opt/conda/lib/python3.10/site-packages (from matplotlib->wordcloud) (3.0.9)\n",
      "Requirement already satisfied: contourpy>=1.0.1 in /opt/conda/lib/python3.10/site-packages (from matplotlib->wordcloud) (1.0.7)\n",
      "Requirement already satisfied: python-dateutil>=2.7 in /opt/conda/lib/python3.10/site-packages (from matplotlib->wordcloud) (2.8.2)\n",
      "Requirement already satisfied: cycler>=0.10 in /opt/conda/lib/python3.10/site-packages (from matplotlib->wordcloud) (0.11.0)\n",
      "Requirement already satisfied: fonttools>=4.22.0 in /opt/conda/lib/python3.10/site-packages (from matplotlib->wordcloud) (4.39.2)\n",
      "Requirement already satisfied: six>=1.5 in /opt/conda/lib/python3.10/site-packages (from python-dateutil>=2.7->matplotlib->wordcloud) (1.16.0)\n",
      "Installing collected packages: wordcloud\n",
      "Successfully installed wordcloud-1.9.2\n"
     ]
    }
   ],
   "source": [
    "!pip install wordcloud"
   ]
  },
  {
   "cell_type": "code",
   "execution_count": 6,
   "id": "85d2c6ed-e488-456d-8ba7-8cab1a69314f",
   "metadata": {
    "tags": []
   },
   "outputs": [],
   "source": [
    "# Importing necessary packages\n",
    "import pandas as pd\n",
    "import matplotlib.pyplot as plt\n",
    "import seaborn as sns\n",
    "import gensim\n",
    "from gensim import corpora, models\n",
    "from wordcloud import WordCloud\n",
    "import re\n",
    "import nltk\n",
    "from nltk.corpus import stopwords\n",
    "from nltk.sentiment import SentimentIntensityAnalyzer\n",
    "from sklearn.decomposition import LatentDirichletAllocation as LDA\n",
    "from sklearn.feature_extraction.text import CountVectorizer"
   ]
  },
  {
   "cell_type": "code",
   "execution_count": 7,
   "id": "27d51e67-7356-4895-8fc8-df7310fe1bf2",
   "metadata": {
    "tags": []
   },
   "outputs": [
    {
     "name": "stdout",
     "output_type": "stream",
     "text": [
      "             score    comms_num       created\n",
      "count  1602.000000  1602.000000  1.602000e+03\n",
      "mean      3.686642     1.838951  1.547197e+09\n",
      "std      29.915671    16.115147  7.099511e+07\n",
      "min     -12.000000     0.000000  1.389595e+09\n",
      "25%       1.000000     0.000000  1.554367e+09\n",
      "50%       1.000000     0.000000  1.569226e+09\n",
      "75%       3.000000     1.000000  1.584901e+09\n",
      "max    1187.000000   595.000000  1.640822e+09\n"
     ]
    }
   ],
   "source": [
    "df = pd.read_csv('reddit_vm.csv')\n",
    "print(df.describe())"
   ]
  },
  {
   "cell_type": "code",
   "execution_count": 8,
   "id": "b50f4931-ee1d-43f8-a9b6-19a0c3597f0b",
   "metadata": {
    "tags": []
   },
   "outputs": [
    {
     "data": {
      "text/html": [
       "<div>\n",
       "<style scoped>\n",
       "    .dataframe tbody tr th:only-of-type {\n",
       "        vertical-align: middle;\n",
       "    }\n",
       "\n",
       "    .dataframe tbody tr th {\n",
       "        vertical-align: top;\n",
       "    }\n",
       "\n",
       "    .dataframe thead th {\n",
       "        text-align: right;\n",
       "    }\n",
       "</style>\n",
       "<table border=\"1\" class=\"dataframe\">\n",
       "  <thead>\n",
       "    <tr style=\"text-align: right;\">\n",
       "      <th></th>\n",
       "      <th>title</th>\n",
       "      <th>score</th>\n",
       "      <th>id</th>\n",
       "      <th>url</th>\n",
       "      <th>comms_num</th>\n",
       "      <th>created</th>\n",
       "      <th>body</th>\n",
       "      <th>timestamp</th>\n",
       "    </tr>\n",
       "  </thead>\n",
       "  <tbody>\n",
       "    <tr>\n",
       "      <th>0</th>\n",
       "      <td>Health Canada approves AstraZeneca COVID-19 va...</td>\n",
       "      <td>7</td>\n",
       "      <td>lt74vw</td>\n",
       "      <td>https://www.canadaforums.ca/2021/02/health-can...</td>\n",
       "      <td>0</td>\n",
       "      <td>1.614400e+09</td>\n",
       "      <td>NaN</td>\n",
       "      <td>2021-02-27 06:33:45</td>\n",
       "    </tr>\n",
       "    <tr>\n",
       "      <th>1</th>\n",
       "      <td>COVID-19 in Canada: 'Vaccination passports' a ...</td>\n",
       "      <td>2</td>\n",
       "      <td>lsh0ij</td>\n",
       "      <td>https://www.canadaforums.ca/2021/02/covid-19-i...</td>\n",
       "      <td>1</td>\n",
       "      <td>1.614316e+09</td>\n",
       "      <td>NaN</td>\n",
       "      <td>2021-02-26 07:11:07</td>\n",
       "    </tr>\n",
       "    <tr>\n",
       "      <th>2</th>\n",
       "      <td>Coronavirus variants could fuel Canada's third...</td>\n",
       "      <td>6</td>\n",
       "      <td>lohlle</td>\n",
       "      <td>https://www.canadaforums.ca/2021/02/coronaviru...</td>\n",
       "      <td>0</td>\n",
       "      <td>1.613887e+09</td>\n",
       "      <td>NaN</td>\n",
       "      <td>2021-02-21 07:50:08</td>\n",
       "    </tr>\n",
       "    <tr>\n",
       "      <th>3</th>\n",
       "      <td>Canadian government to extend COVID-19 emergen...</td>\n",
       "      <td>1</td>\n",
       "      <td>lnptv8</td>\n",
       "      <td>https://www.canadaforums.ca/2021/02/canadian-g...</td>\n",
       "      <td>0</td>\n",
       "      <td>1.613796e+09</td>\n",
       "      <td>NaN</td>\n",
       "      <td>2021-02-20 06:35:13</td>\n",
       "    </tr>\n",
       "    <tr>\n",
       "      <th>4</th>\n",
       "      <td>Canada: Pfizer is 'extremely committed' to mee...</td>\n",
       "      <td>6</td>\n",
       "      <td>lkslm6</td>\n",
       "      <td>https://www.canadaforums.ca/2021/02/canada-pfi...</td>\n",
       "      <td>0</td>\n",
       "      <td>1.613468e+09</td>\n",
       "      <td>NaN</td>\n",
       "      <td>2021-02-16 11:36:28</td>\n",
       "    </tr>\n",
       "  </tbody>\n",
       "</table>\n",
       "</div>"
      ],
      "text/plain": [
       "                                               title  score      id  \\\n",
       "0  Health Canada approves AstraZeneca COVID-19 va...      7  lt74vw   \n",
       "1  COVID-19 in Canada: 'Vaccination passports' a ...      2  lsh0ij   \n",
       "2  Coronavirus variants could fuel Canada's third...      6  lohlle   \n",
       "3  Canadian government to extend COVID-19 emergen...      1  lnptv8   \n",
       "4  Canada: Pfizer is 'extremely committed' to mee...      6  lkslm6   \n",
       "\n",
       "                                                 url  comms_num       created  \\\n",
       "0  https://www.canadaforums.ca/2021/02/health-can...          0  1.614400e+09   \n",
       "1  https://www.canadaforums.ca/2021/02/covid-19-i...          1  1.614316e+09   \n",
       "2  https://www.canadaforums.ca/2021/02/coronaviru...          0  1.613887e+09   \n",
       "3  https://www.canadaforums.ca/2021/02/canadian-g...          0  1.613796e+09   \n",
       "4  https://www.canadaforums.ca/2021/02/canada-pfi...          0  1.613468e+09   \n",
       "\n",
       "  body            timestamp  \n",
       "0  NaN  2021-02-27 06:33:45  \n",
       "1  NaN  2021-02-26 07:11:07  \n",
       "2  NaN  2021-02-21 07:50:08  \n",
       "3  NaN  2021-02-20 06:35:13  \n",
       "4  NaN  2021-02-16 11:36:28  "
      ]
     },
     "execution_count": 8,
     "metadata": {},
     "output_type": "execute_result"
    }
   ],
   "source": [
    "df.head()"
   ]
  },
  {
   "cell_type": "markdown",
   "id": "28ed5b14-459f-4bfa-a16c-6fb93f7e719f",
   "metadata": {
    "tags": []
   },
   "source": [
    "## Preprocessing"
   ]
  },
  {
   "cell_type": "code",
   "execution_count": 9,
   "id": "1a6702ee-1c39-4802-b04a-b19337ef0cf9",
   "metadata": {
    "tags": []
   },
   "outputs": [],
   "source": [
    "# Remove duplicates\n",
    "df = df.drop_duplicates()"
   ]
  },
  {
   "cell_type": "code",
   "execution_count": 10,
   "id": "c6514db0-e45c-448c-a2de-9a51ae08feba",
   "metadata": {
    "tags": []
   },
   "outputs": [],
   "source": [
    "# Remove missing rows\n",
    "df = df.dropna()"
   ]
  },
  {
   "cell_type": "code",
   "execution_count": 11,
   "id": "daec07ee-d420-479d-83c7-a653c05a2fde",
   "metadata": {
    "tags": []
   },
   "outputs": [],
   "source": [
    "# Remove symbols from text data\n",
    "df['body'] = df['body'].apply(lambda x: re.sub(r'[^\\w\\s]', '', x))\n",
    "df['title'] = df['title'].apply(lambda x: re.sub(r'[^\\w\\s]', '', x))"
   ]
  },
  {
   "cell_type": "code",
   "execution_count": 12,
   "id": "ae652bc7-8d9d-4448-a0a1-8c46e716ee36",
   "metadata": {
    "tags": []
   },
   "outputs": [
    {
     "name": "stderr",
     "output_type": "stream",
     "text": [
      "[nltk_data] Downloading package stopwords to /home/jovyan/nltk_data...\n",
      "[nltk_data]   Package stopwords is already up-to-date!\n",
      "[nltk_data] Downloading package vader_lexicon to\n",
      "[nltk_data]     /home/jovyan/nltk_data...\n",
      "[nltk_data]   Package vader_lexicon is already up-to-date!\n"
     ]
    },
    {
     "data": {
      "text/plain": [
       "True"
      ]
     },
     "execution_count": 12,
     "metadata": {},
     "output_type": "execute_result"
    }
   ],
   "source": [
    "# Download stopwords if not already downloaded\n",
    "nltk.download('stopwords')\n",
    "nltk.download('vader_lexicon')"
   ]
  },
  {
   "cell_type": "code",
   "execution_count": 13,
   "id": "fa6aaf3f-d735-44f7-8e9b-db076f6a80fe",
   "metadata": {
    "tags": []
   },
   "outputs": [],
   "source": [
    "# Remove stop words from text data\n",
    "stop_words = set(stopwords.words('english'))\n",
    "df['body'] = df['body'].apply(lambda x: ' '.join([word for word in x.split() if word.lower() not in stop_words]))\n",
    "df['title'] = df['title'].apply(lambda x: ' '.join([word for word in x.split() if word.lower() not in stop_words]))"
   ]
  },
  {
   "cell_type": "code",
   "execution_count": 14,
   "id": "531d6077-9da6-4441-a7f3-9891bbfe2838",
   "metadata": {
    "tags": []
   },
   "outputs": [
    {
     "data": {
      "text/html": [
       "<div>\n",
       "<style scoped>\n",
       "    .dataframe tbody tr th:only-of-type {\n",
       "        vertical-align: middle;\n",
       "    }\n",
       "\n",
       "    .dataframe tbody tr th {\n",
       "        vertical-align: top;\n",
       "    }\n",
       "\n",
       "    .dataframe thead th {\n",
       "        text-align: right;\n",
       "    }\n",
       "</style>\n",
       "<table border=\"1\" class=\"dataframe\">\n",
       "  <thead>\n",
       "    <tr style=\"text-align: right;\">\n",
       "      <th></th>\n",
       "      <th>title</th>\n",
       "      <th>score</th>\n",
       "      <th>id</th>\n",
       "      <th>url</th>\n",
       "      <th>comms_num</th>\n",
       "      <th>created</th>\n",
       "      <th>body</th>\n",
       "      <th>timestamp</th>\n",
       "    </tr>\n",
       "  </thead>\n",
       "  <tbody>\n",
       "    <tr>\n",
       "      <th>7</th>\n",
       "      <td>Fuck antivaxxing retards</td>\n",
       "      <td>10</td>\n",
       "      <td>g6jkhp</td>\n",
       "      <td>https://www.reddit.com/r/VaccineMyths/comments...</td>\n",
       "      <td>8</td>\n",
       "      <td>1.587663e+09</td>\n",
       "      <td>httpsyoutubezBkVCpbNnkU</td>\n",
       "      <td>2020-04-23 20:23:42</td>\n",
       "    </tr>\n",
       "    <tr>\n",
       "      <th>119</th>\n",
       "      <td>biologically possible insert 5G tracker human ...</td>\n",
       "      <td>9</td>\n",
       "      <td>khzpug</td>\n",
       "      <td>https://www.reddit.com/r/VaccineMyths/comments...</td>\n",
       "      <td>9</td>\n",
       "      <td>1.608647e+09</td>\n",
       "      <td>Although dont believe true COVID19 vaccine rec...</td>\n",
       "      <td>2020-12-22 16:19:39</td>\n",
       "    </tr>\n",
       "    <tr>\n",
       "      <th>134</th>\n",
       "      <td>dont see reason trust JJ vaccine</td>\n",
       "      <td>0</td>\n",
       "      <td>ocj9ws</td>\n",
       "      <td>https://www.reddit.com/r/VaccineMyths/comments...</td>\n",
       "      <td>4</td>\n",
       "      <td>1.625288e+09</td>\n",
       "      <td>company knew asbestos products aimed mothers b...</td>\n",
       "      <td>2021-07-03 07:57:05</td>\n",
       "    </tr>\n",
       "    <tr>\n",
       "      <th>145</th>\n",
       "      <td>Vaccine Survey</td>\n",
       "      <td>0</td>\n",
       "      <td>ak5ziq</td>\n",
       "      <td>https://www.reddit.com/r/VaccineMyths/comments...</td>\n",
       "      <td>5</td>\n",
       "      <td>1.548543e+09</td>\n",
       "      <td>Hi guys wondering could help research project ...</td>\n",
       "      <td>2019-01-27 00:42:09</td>\n",
       "    </tr>\n",
       "    <tr>\n",
       "      <th>161</th>\n",
       "      <td>rant please</td>\n",
       "      <td>13</td>\n",
       "      <td>o6nqcm</td>\n",
       "      <td>https://www.reddit.com/r/VaccineMyths/comments...</td>\n",
       "      <td>1</td>\n",
       "      <td>1.624488e+09</td>\n",
       "      <td>sure sub allows need vent need sanity right po...</td>\n",
       "      <td>2021-06-24 01:35:24</td>\n",
       "    </tr>\n",
       "  </tbody>\n",
       "</table>\n",
       "</div>"
      ],
      "text/plain": [
       "                                                 title  score      id  \\\n",
       "7                             Fuck antivaxxing retards     10  g6jkhp   \n",
       "119  biologically possible insert 5G tracker human ...      9  khzpug   \n",
       "134                   dont see reason trust JJ vaccine      0  ocj9ws   \n",
       "145                                     Vaccine Survey      0  ak5ziq   \n",
       "161                                        rant please     13  o6nqcm   \n",
       "\n",
       "                                                   url  comms_num  \\\n",
       "7    https://www.reddit.com/r/VaccineMyths/comments...          8   \n",
       "119  https://www.reddit.com/r/VaccineMyths/comments...          9   \n",
       "134  https://www.reddit.com/r/VaccineMyths/comments...          4   \n",
       "145  https://www.reddit.com/r/VaccineMyths/comments...          5   \n",
       "161  https://www.reddit.com/r/VaccineMyths/comments...          1   \n",
       "\n",
       "          created                                               body  \\\n",
       "7    1.587663e+09                            httpsyoutubezBkVCpbNnkU   \n",
       "119  1.608647e+09  Although dont believe true COVID19 vaccine rec...   \n",
       "134  1.625288e+09  company knew asbestos products aimed mothers b...   \n",
       "145  1.548543e+09  Hi guys wondering could help research project ...   \n",
       "161  1.624488e+09  sure sub allows need vent need sanity right po...   \n",
       "\n",
       "               timestamp  \n",
       "7    2020-04-23 20:23:42  \n",
       "119  2020-12-22 16:19:39  \n",
       "134  2021-07-03 07:57:05  \n",
       "145  2019-01-27 00:42:09  \n",
       "161  2021-06-24 01:35:24  "
      ]
     },
     "execution_count": 14,
     "metadata": {},
     "output_type": "execute_result"
    }
   ],
   "source": [
    "df.head()"
   ]
  },
  {
   "cell_type": "markdown",
   "id": "084cfe47-b34b-41a3-a7a2-aa8f46647e4a",
   "metadata": {
    "tags": []
   },
   "source": [
    "## Analysis"
   ]
  },
  {
   "cell_type": "code",
   "execution_count": 18,
   "id": "dbdbf5cc-c4de-46b0-aa47-07a6729833b0",
   "metadata": {
    "tags": []
   },
   "outputs": [],
   "source": [
    "# Sentiment Analysis\n",
    "texts = df['body'].tolist()\n",
    "tokenized_texts = [text.lower().split() for text in texts]"
   ]
  },
  {
   "cell_type": "code",
   "execution_count": 19,
   "id": "79a55c9b-587a-4679-84d7-ca8c8a7bdd44",
   "metadata": {
    "tags": []
   },
   "outputs": [],
   "source": [
    "sia = SentimentIntensityAnalyzer()\n",
    "\n",
    "# Calculate sentiment scores for body text\n",
    "df['body_sentiment'] = df['body'].apply(lambda x: sia.polarity_scores(x)['compound'])"
   ]
  },
  {
   "cell_type": "code",
   "execution_count": 20,
   "id": "cd99d584-1e2a-408f-a008-10592cf9e0d2",
   "metadata": {
    "tags": []
   },
   "outputs": [],
   "source": [
    "# Calculate sentiment scores for title\n",
    "df['title_sentiment'] = df['title'].apply(lambda x: sia.polarity_scores(x)['compound'])"
   ]
  },
  {
   "cell_type": "code",
   "execution_count": 22,
   "id": "71617d61-5acb-4425-aebe-2d9c972115d5",
   "metadata": {
    "tags": []
   },
   "outputs": [
    {
     "data": {
      "image/png": "[encoded data removed]",
      "text/plain": [
       "<Figure size 1000x600 with 1 Axes>"
      ]
     },
     "metadata": {},
     "output_type": "display_data"
    }
   ],
   "source": [
    "# Visualization: Body Sentiment vs. Upvotes\n",
    "plt.figure(figsize=(10, 6))\n",
    "sns.scatterplot(x='score', y='body_sentiment', data=df)\n",
    "plt.xlabel('Upvotes')\n",
    "plt.ylabel('Sentiment Score')\n",
    "plt.title('Sentiment vs. Upvotes')\n",
    "plt.show()"
   ]
  },
  {
   "cell_type": "code",
   "execution_count": 74,
   "id": "0da3d867-10fb-4ff8-93c6-01bd2315ff39",
   "metadata": {
    "tags": []
   },
   "outputs": [
    {
     "data": {
      "image/png": "[encoded data removed]",
      "text/plain": [
       "<Figure size 1000x600 with 1 Axes>"
      ]
     },
     "metadata": {},
     "output_type": "display_data"
    }
   ],
   "source": [
    "# Visualization: Title Sentiment vs. Upvotes\n",
    "plt.figure(figsize=(10, 6))\n",
    "sns.scatterplot(x='comms_num', y='title_sentiment', data=df)\n",
    "plt.xlabel('Number of Comments')\n",
    "plt.ylabel('Sentiment Score')\n",
    "plt.title('Title Sentiment vs. Number of Comments')\n",
    "plt.show()"
   ]
  },
  {
   "cell_type": "code",
   "execution_count": 77,
   "id": "b75d53f8-5c31-4361-af61-7ef443015543",
   "metadata": {
    "tags": []
   },
   "outputs": [],
   "source": [
    "df['interaction'] = df['comms_num'] + df['score']"
   ]
  },
  {
   "cell_type": "code",
   "execution_count": 79,
   "id": "bd1d3042-a141-4523-af29-4521d6615950",
   "metadata": {
    "tags": []
   },
   "outputs": [
    {
     "data": {
      "image/png": "[encoded data removed]",
      "text/plain": [
       "<Figure size 1000x600 with 1 Axes>"
      ]
     },
     "metadata": {},
     "output_type": "display_data"
    }
   ],
   "source": [
    "# Visualization: Body Sentiment vs. Upvotes\n",
    "plt.figure(figsize=(10, 6))\n",
    "sns.scatterplot(x='timestamp', y='interaction', data=df)\n",
    "plt.xlabel('Timestamp')\n",
    "plt.ylabel('Post Interactions')\n",
    "plt.title('Timestamp vs. Post Interaction')\n",
    "plt.show()"
   ]
  },
  {
   "cell_type": "markdown",
   "id": "3caef045-d958-4ebb-8268-e5ff6f2a090a",
   "metadata": {
    "tags": []
   },
   "source": [
    "## Visualization"
   ]
  },
  {
   "cell_type": "code",
   "execution_count": 14,
   "id": "f6718bf4-c40c-49e1-ae82-20a95dafd930",
   "metadata": {
    "tags": []
   },
   "outputs": [
    {
     "name": "stdout",
     "output_type": "stream",
     "text": [
      "Requirement already satisfied: bokeh in /opt/conda/lib/python3.10/site-packages (3.1.1)\n",
      "Requirement already satisfied: pandas>=1.2 in /opt/conda/lib/python3.10/site-packages (from bokeh) (1.5.3)\n",
      "Requirement already satisfied: PyYAML>=3.10 in /opt/conda/lib/python3.10/site-packages (from bokeh) (6.0)\n",
      "Requirement already satisfied: Jinja2>=2.9 in /opt/conda/lib/python3.10/site-packages (from bokeh) (3.1.2)\n",
      "Requirement already satisfied: packaging>=16.8 in /opt/conda/lib/python3.10/site-packages (from bokeh) (23.0)\n",
      "Requirement already satisfied: contourpy>=1 in /opt/conda/lib/python3.10/site-packages (from bokeh) (1.0.7)\n",
      "Requirement already satisfied: pillow>=7.1.0 in /opt/conda/lib/python3.10/site-packages (from bokeh) (9.4.0)\n",
      "Requirement already satisfied: tornado>=5.1 in /opt/conda/lib/python3.10/site-packages (from bokeh) (6.2)\n",
      "Requirement already satisfied: numpy>=1.16 in /opt/conda/lib/python3.10/site-packages (from bokeh) (1.24.2)\n",
      "Requirement already satisfied: xyzservices>=2021.09.1 in /opt/conda/lib/python3.10/site-packages (from bokeh) (2023.5.0)\n",
      "Requirement already satisfied: MarkupSafe>=2.0 in /opt/conda/lib/python3.10/site-packages (from Jinja2>=2.9->bokeh) (2.1.2)\n",
      "Requirement already satisfied: python-dateutil>=2.8.1 in /opt/conda/lib/python3.10/site-packages (from pandas>=1.2->bokeh) (2.8.2)\n",
      "Requirement already satisfied: pytz>=2020.1 in /opt/conda/lib/python3.10/site-packages (from pandas>=1.2->bokeh) (2022.7.1)\n",
      "Requirement already satisfied: six>=1.5 in /opt/conda/lib/python3.10/site-packages (from python-dateutil>=2.8.1->pandas>=1.2->bokeh) (1.16.0)\n"
     ]
    }
   ],
   "source": [
    "!pip install bokeh"
   ]
  },
  {
   "cell_type": "markdown",
   "id": "7e07b044-5631-420f-9e95-abb0c1155db5",
   "metadata": {
    "tags": []
   },
   "source": [
    "## Results/Findings"
   ]
  },
  {
   "cell_type": "markdown",
   "id": "bf9f697b-2a21-4460-b47c-b27a17a4db7e",
   "metadata": {
    "tags": []
   },
   "source": [
    "## Contribution"
   ]
  }
 ],
 "metadata": {
  "kernelspec": {
   "display_name": "Python 3 (ipykernel)",
   "language": "python",
   "name": "python3"
  },
  "language_info": {
   "codemirror_mode": {
    "name": "ipython",
    "version": 3
   },
   "file_extension": ".py",
   "mimetype": "text/x-python",
   "name": "python",
   "nbconvert_exporter": "python",
   "pygments_lexer": "ipython3",
   "version": "3.10.9"
  }
 },
 "nbformat": 4,
 "nbformat_minor": 5
}
