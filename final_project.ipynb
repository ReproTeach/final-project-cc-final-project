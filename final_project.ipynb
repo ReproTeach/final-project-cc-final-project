{
 "cells": [
  {
   "cell_type": "markdown",
   "id": "8b750025-903e-443c-a7d2-2198a797cd7d",
   "metadata": {},
   "source": [
    "# A Data Analysis of r/VaccineMyths Subreddit \n",
    "\n",
    "- Member 1: Caren Chua\n",
    "- Member 2: Abby Salas \n",
    "- Member 3: Courtney Collins\n",
    "- Member 4: Arggin Avanessian"
   ]
  },
  {
   "cell_type": "code",
   "execution_count": 43,
   "id": "85d2c6ed-e488-456d-8ba7-8cab1a69314f",
   "metadata": {
    "jupyter": {
     "source_hidden": true
    },
    "tags": []
   },
   "outputs": [
    {
     "name": "stdout",
     "output_type": "stream",
     "text": [
      "Requirement already satisfied: nltk in /opt/conda/lib/python3.10/site-packages (3.8.1)\n",
      "Requirement already satisfied: regex>=2021.8.3 in /opt/conda/lib/python3.10/site-packages (from nltk) (2023.6.3)\n",
      "Requirement already satisfied: joblib in /opt/conda/lib/python3.10/site-packages (from nltk) (1.2.0)\n",
      "Requirement already satisfied: click in /opt/conda/lib/python3.10/site-packages (from nltk) (8.1.3)\n",
      "Requirement already satisfied: tqdm in /opt/conda/lib/python3.10/site-packages (from nltk) (4.65.0)\n",
      "Requirement already satisfied: textblob in /opt/conda/lib/python3.10/site-packages (0.17.1)\n",
      "Requirement already satisfied: nltk>=3.1 in /opt/conda/lib/python3.10/site-packages (from textblob) (3.8.1)\n",
      "Requirement already satisfied: click in /opt/conda/lib/python3.10/site-packages (from nltk>=3.1->textblob) (8.1.3)\n",
      "Requirement already satisfied: joblib in /opt/conda/lib/python3.10/site-packages (from nltk>=3.1->textblob) (1.2.0)\n",
      "Requirement already satisfied: tqdm in /opt/conda/lib/python3.10/site-packages (from nltk>=3.1->textblob) (4.65.0)\n",
      "Requirement already satisfied: regex>=2021.8.3 in /opt/conda/lib/python3.10/site-packages (from nltk>=3.1->textblob) (2023.6.3)\n",
      "Requirement already satisfied: gensim in /opt/conda/lib/python3.10/site-packages (4.3.1)\n",
      "Requirement already satisfied: smart-open>=1.8.1 in /opt/conda/lib/python3.10/site-packages (from gensim) (6.3.0)\n",
      "Requirement already satisfied: scipy>=1.7.0 in /opt/conda/lib/python3.10/site-packages (from gensim) (1.10.1)\n",
      "Requirement already satisfied: numpy>=1.18.5 in /opt/conda/lib/python3.10/site-packages (from gensim) (1.24.2)\n"
     ]
    }
   ],
   "source": [
    "# Install necessary packages\n",
    "\n",
    "!pip install nltk\n",
    "!pip install textblob\n",
    "!pip install gensim\n",
    "\n",
    "# Importing necessary libraries\n",
    "\n",
    "import pandas as pd\n",
    "import matplotlib.pyplot as plt\n",
    "import seaborn as sns\n",
    "import gensim\n",
    "from gensim import corpora, models\n",
    "from wordcloud import WordCloud\n",
    "import re\n",
    "import nltk\n",
    "from nltk.corpus import stopwords\n",
    "from nltk.sentiment import SentimentIntensityAnalyzer\n",
    "from sklearn.decomposition import LatentDirichletAllocation as LDA\n",
    "from sklearn.feature_extraction.text import CountVectorizer"
   ]
  },
  {
   "cell_type": "markdown",
   "id": "db51adcb-6247-4475-80ae-074144a2014c",
   "metadata": {},
   "source": [
    "## Introduction"
   ]
  },
  {
   "cell_type": "markdown",
   "id": "dae590fa-3d45-45f3-abba-6688bc134eee",
   "metadata": {},
   "source": [
    "Our project sought to understand how sentiment and time contributed to engagement when looking at Reddit posts. As Communication majors, we are aware of how media uses salience to grab the attention of viewers. We wanted to see if sentiment contributed to more engagement with our data in a similar sense to how salience works with media. We also tested to see if the time of day when posting contributed to increased engagement as well. "
   ]
  },
  {
   "cell_type": "markdown",
   "id": "804db080-2426-48e2-846d-0809e437d33b",
   "metadata": {},
   "source": [
    "## Research Question"
   ]
  },
  {
   "cell_type": "markdown",
   "id": "10fd5e88-2426-4c13-8495-4341a4ee4c08",
   "metadata": {},
   "source": [
    "1. Do higher/lower salience scores contribute to more engagement? \n",
    "2. Is there optimal time to post to get the highest engagement on this subreddit?"
   ]
  },
  {
   "cell_type": "markdown",
   "id": "d4199ccc-a768-4818-ad23-31bd81ee3f65",
   "metadata": {
    "tags": []
   },
   "source": [
    "## Dataset Description"
   ]
  },
  {
   "cell_type": "markdown",
   "id": "3c4c9fcd-b861-4f4a-98cf-3dcefb734838",
   "metadata": {},
   "source": [
    "This dataset contains comments and posts from the subreddit r/VaccineMyths. It spans a period from its inception in 2012 to July 2021. It contains vital information needed for our analysis like the post body contents along with the date and time it was posted. Our dataset also contains the url link of the posts, their titles, along with the ID’s of the users that created them. "
   ]
  },
  {
   "cell_type": "code",
   "execution_count": 8,
   "id": "27d51e67-7356-4895-8fc8-df7310fe1bf2",
   "metadata": {
    "tags": []
   },
   "outputs": [
    {
     "name": "stdout",
     "output_type": "stream",
     "text": [
      "             score    comms_num       created\n",
      "count  1602.000000  1602.000000  1.602000e+03\n",
      "mean      3.686642     1.838951  1.547197e+09\n",
      "std      29.915671    16.115147  7.099511e+07\n",
      "min     -12.000000     0.000000  1.389595e+09\n",
      "25%       1.000000     0.000000  1.554367e+09\n",
      "50%       1.000000     0.000000  1.569226e+09\n",
      "75%       3.000000     1.000000  1.584901e+09\n",
      "max    1187.000000   595.000000  1.640822e+09\n"
     ]
    }
   ],
   "source": [
    "# Read and describe .csv file\n",
    "df = pd.read_csv('reddit_vm.csv')\n",
    "print(df.describe())"
   ]
  },
  {
   "cell_type": "markdown",
   "id": "0c69b87d-711f-4915-a51b-2f7ae2d10a6d",
   "metadata": {
    "tags": []
   },
   "source": [
    "## Preprocessing"
   ]
  },
  {
   "cell_type": "markdown",
   "id": "6cf14bfd-4e29-42ce-9eab-98f07cf7bc85",
   "metadata": {},
   "source": [
    "Firstly, we removed all duplicate rows to ensure that each comment was unique, avoiding any bias that may result from duplicate data. By ensuring that each comment is only considered once in the analysis, we prevent any skew in the results and maintain the integrity of our findings. Additionally, removing rows with missing values was part of our preprocessing steps to ensure that the analysis is based on complete data. By removing these missing rows, we can ensure that our analysis is not compromised by incomplete information, which could introduce biases or affect the accuracy of our results.Regarding negative comments, the step to remove symbols such as punctuation marks is an extra measure to focus on the content of the comments themselves. Punctuation does not typically carry significant meaning in terms of sentiment analysis, so removing them allows us to better evaluate the sentiment of the comments without unnecessary noise from symbols. Lastly, removing common words or stop words, such as \"a,\" \"an,\" \"the,\" etc., helps reduce noise and minimize the dimensionality of the text when evaluating sentiment. By eliminating these words, which do not typically contribute much to sentiment analysis, we can focus on the words that carry more weight in determining the sentiment and engagement of the comments. Overall, these preprocessing steps are crucial in evaluating the sentiment of comments on Reddit posts. They ensure data cleanliness, completeness, and relevance, allowing us to obtain meaningful insights into the relationship between negative comments and engagement."
   ]
  },
  {
   "cell_type": "code",
   "execution_count": 10,
   "id": "b50f4931-ee1d-43f8-a9b6-19a0c3597f0b",
   "metadata": {
    "tags": []
   },
   "outputs": [
    {
     "data": {
      "text/html": [
       "<div>\n",
       "<style scoped>\n",
       "    .dataframe tbody tr th:only-of-type {\n",
       "        vertical-align: middle;\n",
       "    }\n",
       "\n",
       "    .dataframe tbody tr th {\n",
       "        vertical-align: top;\n",
       "    }\n",
       "\n",
       "    .dataframe thead th {\n",
       "        text-align: right;\n",
       "    }\n",
       "</style>\n",
       "<table border=\"1\" class=\"dataframe\">\n",
       "  <thead>\n",
       "    <tr style=\"text-align: right;\">\n",
       "      <th></th>\n",
       "      <th>title</th>\n",
       "      <th>score</th>\n",
       "      <th>id</th>\n",
       "      <th>url</th>\n",
       "      <th>comms_num</th>\n",
       "      <th>created</th>\n",
       "      <th>body</th>\n",
       "      <th>timestamp</th>\n",
       "    </tr>\n",
       "  </thead>\n",
       "  <tbody>\n",
       "    <tr>\n",
       "      <th>0</th>\n",
       "      <td>Health Canada approves AstraZeneca COVID-19 va...</td>\n",
       "      <td>7</td>\n",
       "      <td>lt74vw</td>\n",
       "      <td>https://www.canadaforums.ca/2021/02/health-can...</td>\n",
       "      <td>0</td>\n",
       "      <td>1.614400e+09</td>\n",
       "      <td>NaN</td>\n",
       "      <td>2021-02-27 06:33:45</td>\n",
       "    </tr>\n",
       "    <tr>\n",
       "      <th>1</th>\n",
       "      <td>COVID-19 in Canada: 'Vaccination passports' a ...</td>\n",
       "      <td>2</td>\n",
       "      <td>lsh0ij</td>\n",
       "      <td>https://www.canadaforums.ca/2021/02/covid-19-i...</td>\n",
       "      <td>1</td>\n",
       "      <td>1.614316e+09</td>\n",
       "      <td>NaN</td>\n",
       "      <td>2021-02-26 07:11:07</td>\n",
       "    </tr>\n",
       "    <tr>\n",
       "      <th>2</th>\n",
       "      <td>Coronavirus variants could fuel Canada's third...</td>\n",
       "      <td>6</td>\n",
       "      <td>lohlle</td>\n",
       "      <td>https://www.canadaforums.ca/2021/02/coronaviru...</td>\n",
       "      <td>0</td>\n",
       "      <td>1.613887e+09</td>\n",
       "      <td>NaN</td>\n",
       "      <td>2021-02-21 07:50:08</td>\n",
       "    </tr>\n",
       "    <tr>\n",
       "      <th>3</th>\n",
       "      <td>Canadian government to extend COVID-19 emergen...</td>\n",
       "      <td>1</td>\n",
       "      <td>lnptv8</td>\n",
       "      <td>https://www.canadaforums.ca/2021/02/canadian-g...</td>\n",
       "      <td>0</td>\n",
       "      <td>1.613796e+09</td>\n",
       "      <td>NaN</td>\n",
       "      <td>2021-02-20 06:35:13</td>\n",
       "    </tr>\n",
       "    <tr>\n",
       "      <th>4</th>\n",
       "      <td>Canada: Pfizer is 'extremely committed' to mee...</td>\n",
       "      <td>6</td>\n",
       "      <td>lkslm6</td>\n",
       "      <td>https://www.canadaforums.ca/2021/02/canada-pfi...</td>\n",
       "      <td>0</td>\n",
       "      <td>1.613468e+09</td>\n",
       "      <td>NaN</td>\n",
       "      <td>2021-02-16 11:36:28</td>\n",
       "    </tr>\n",
       "  </tbody>\n",
       "</table>\n",
       "</div>"
      ],
      "text/plain": [
       "                                               title  score      id  \\\n",
       "0  Health Canada approves AstraZeneca COVID-19 va...      7  lt74vw   \n",
       "1  COVID-19 in Canada: 'Vaccination passports' a ...      2  lsh0ij   \n",
       "2  Coronavirus variants could fuel Canada's third...      6  lohlle   \n",
       "3  Canadian government to extend COVID-19 emergen...      1  lnptv8   \n",
       "4  Canada: Pfizer is 'extremely committed' to mee...      6  lkslm6   \n",
       "\n",
       "                                                 url  comms_num       created  \\\n",
       "0  https://www.canadaforums.ca/2021/02/health-can...          0  1.614400e+09   \n",
       "1  https://www.canadaforums.ca/2021/02/covid-19-i...          1  1.614316e+09   \n",
       "2  https://www.canadaforums.ca/2021/02/coronaviru...          0  1.613887e+09   \n",
       "3  https://www.canadaforums.ca/2021/02/canadian-g...          0  1.613796e+09   \n",
       "4  https://www.canadaforums.ca/2021/02/canada-pfi...          0  1.613468e+09   \n",
       "\n",
       "  body            timestamp  \n",
       "0  NaN  2021-02-27 06:33:45  \n",
       "1  NaN  2021-02-26 07:11:07  \n",
       "2  NaN  2021-02-21 07:50:08  \n",
       "3  NaN  2021-02-20 06:35:13  \n",
       "4  NaN  2021-02-16 11:36:28  "
      ]
     },
     "execution_count": 10,
     "metadata": {},
     "output_type": "execute_result"
    }
   ],
   "source": [
    "df.head()"
   ]
  },
  {
   "cell_type": "code",
   "execution_count": 11,
   "id": "1a6702ee-1c39-4802-b04a-b19337ef0cf9",
   "metadata": {
    "tags": []
   },
   "outputs": [],
   "source": [
    "# Remove duplicates\n",
    "df = df.drop_duplicates()"
   ]
  },
  {
   "cell_type": "code",
   "execution_count": 12,
   "id": "c6514db0-e45c-448c-a2de-9a51ae08feba",
   "metadata": {
    "tags": []
   },
   "outputs": [],
   "source": [
    "# Remove missing rows\n",
    "df = df.dropna()"
   ]
  },
  {
   "cell_type": "code",
   "execution_count": 13,
   "id": "daec07ee-d420-479d-83c7-a653c05a2fde",
   "metadata": {
    "tags": []
   },
   "outputs": [],
   "source": [
    "# Remove symbols from text data\n",
    "df['body'] = df['body'].apply(lambda x: re.sub(r'[^\\w\\s]', '', x))\n",
    "df['title'] = df['title'].apply(lambda x: re.sub(r'[^\\w\\s]', '', x))"
   ]
  },
  {
   "cell_type": "code",
   "execution_count": 14,
   "id": "ae652bc7-8d9d-4448-a0a1-8c46e716ee36",
   "metadata": {
    "tags": []
   },
   "outputs": [
    {
     "name": "stderr",
     "output_type": "stream",
     "text": [
      "[nltk_data] Downloading package stopwords to /home/jovyan/nltk_data...\n",
      "[nltk_data]   Package stopwords is already up-to-date!\n",
      "[nltk_data] Downloading package vader_lexicon to\n",
      "[nltk_data]     /home/jovyan/nltk_data...\n",
      "[nltk_data]   Package vader_lexicon is already up-to-date!\n"
     ]
    },
    {
     "data": {
      "text/plain": [
       "True"
      ]
     },
     "execution_count": 14,
     "metadata": {},
     "output_type": "execute_result"
    }
   ],
   "source": [
    "# Download stopwords if not already downloaded\n",
    "nltk.download('stopwords')\n",
    "nltk.download('vader_lexicon')"
   ]
  },
  {
   "cell_type": "code",
   "execution_count": 15,
   "id": "fa6aaf3f-d735-44f7-8e9b-db076f6a80fe",
   "metadata": {
    "tags": []
   },
   "outputs": [],
   "source": [
    "# Remove stop words from text data\n",
    "stop_words = set(stopwords.words('english'))\n",
    "df['body'] = df['body'].apply(lambda x: ' '.join([word for word in x.split() if word.lower() not in stop_words]))\n",
    "df['title'] = df['title'].apply(lambda x: ' '.join([word for word in x.split() if word.lower() not in stop_words]))"
   ]
  },
  {
   "cell_type": "code",
   "execution_count": 16,
   "id": "531d6077-9da6-4441-a7f3-9891bbfe2838",
   "metadata": {
    "tags": []
   },
   "outputs": [
    {
     "data": {
      "text/html": [
       "<div>\n",
       "<style scoped>\n",
       "    .dataframe tbody tr th:only-of-type {\n",
       "        vertical-align: middle;\n",
       "    }\n",
       "\n",
       "    .dataframe tbody tr th {\n",
       "        vertical-align: top;\n",
       "    }\n",
       "\n",
       "    .dataframe thead th {\n",
       "        text-align: right;\n",
       "    }\n",
       "</style>\n",
       "<table border=\"1\" class=\"dataframe\">\n",
       "  <thead>\n",
       "    <tr style=\"text-align: right;\">\n",
       "      <th></th>\n",
       "      <th>title</th>\n",
       "      <th>score</th>\n",
       "      <th>id</th>\n",
       "      <th>url</th>\n",
       "      <th>comms_num</th>\n",
       "      <th>created</th>\n",
       "      <th>body</th>\n",
       "      <th>timestamp</th>\n",
       "    </tr>\n",
       "  </thead>\n",
       "  <tbody>\n",
       "    <tr>\n",
       "      <th>7</th>\n",
       "      <td>Fuck antivaxxing retards</td>\n",
       "      <td>10</td>\n",
       "      <td>g6jkhp</td>\n",
       "      <td>https://www.reddit.com/r/VaccineMyths/comments...</td>\n",
       "      <td>8</td>\n",
       "      <td>1.587663e+09</td>\n",
       "      <td>httpsyoutubezBkVCpbNnkU</td>\n",
       "      <td>2020-04-23 20:23:42</td>\n",
       "    </tr>\n",
       "    <tr>\n",
       "      <th>119</th>\n",
       "      <td>biologically possible insert 5G tracker human ...</td>\n",
       "      <td>9</td>\n",
       "      <td>khzpug</td>\n",
       "      <td>https://www.reddit.com/r/VaccineMyths/comments...</td>\n",
       "      <td>9</td>\n",
       "      <td>1.608647e+09</td>\n",
       "      <td>Although dont believe true COVID19 vaccine rec...</td>\n",
       "      <td>2020-12-22 16:19:39</td>\n",
       "    </tr>\n",
       "    <tr>\n",
       "      <th>134</th>\n",
       "      <td>dont see reason trust JJ vaccine</td>\n",
       "      <td>0</td>\n",
       "      <td>ocj9ws</td>\n",
       "      <td>https://www.reddit.com/r/VaccineMyths/comments...</td>\n",
       "      <td>4</td>\n",
       "      <td>1.625288e+09</td>\n",
       "      <td>company knew asbestos products aimed mothers b...</td>\n",
       "      <td>2021-07-03 07:57:05</td>\n",
       "    </tr>\n",
       "    <tr>\n",
       "      <th>145</th>\n",
       "      <td>Vaccine Survey</td>\n",
       "      <td>0</td>\n",
       "      <td>ak5ziq</td>\n",
       "      <td>https://www.reddit.com/r/VaccineMyths/comments...</td>\n",
       "      <td>5</td>\n",
       "      <td>1.548543e+09</td>\n",
       "      <td>Hi guys wondering could help research project ...</td>\n",
       "      <td>2019-01-27 00:42:09</td>\n",
       "    </tr>\n",
       "    <tr>\n",
       "      <th>161</th>\n",
       "      <td>rant please</td>\n",
       "      <td>13</td>\n",
       "      <td>o6nqcm</td>\n",
       "      <td>https://www.reddit.com/r/VaccineMyths/comments...</td>\n",
       "      <td>1</td>\n",
       "      <td>1.624488e+09</td>\n",
       "      <td>sure sub allows need vent need sanity right po...</td>\n",
       "      <td>2021-06-24 01:35:24</td>\n",
       "    </tr>\n",
       "  </tbody>\n",
       "</table>\n",
       "</div>"
      ],
      "text/plain": [
       "                                                 title  score      id  \\\n",
       "7                             Fuck antivaxxing retards     10  g6jkhp   \n",
       "119  biologically possible insert 5G tracker human ...      9  khzpug   \n",
       "134                   dont see reason trust JJ vaccine      0  ocj9ws   \n",
       "145                                     Vaccine Survey      0  ak5ziq   \n",
       "161                                        rant please     13  o6nqcm   \n",
       "\n",
       "                                                   url  comms_num  \\\n",
       "7    https://www.reddit.com/r/VaccineMyths/comments...          8   \n",
       "119  https://www.reddit.com/r/VaccineMyths/comments...          9   \n",
       "134  https://www.reddit.com/r/VaccineMyths/comments...          4   \n",
       "145  https://www.reddit.com/r/VaccineMyths/comments...          5   \n",
       "161  https://www.reddit.com/r/VaccineMyths/comments...          1   \n",
       "\n",
       "          created                                               body  \\\n",
       "7    1.587663e+09                            httpsyoutubezBkVCpbNnkU   \n",
       "119  1.608647e+09  Although dont believe true COVID19 vaccine rec...   \n",
       "134  1.625288e+09  company knew asbestos products aimed mothers b...   \n",
       "145  1.548543e+09  Hi guys wondering could help research project ...   \n",
       "161  1.624488e+09  sure sub allows need vent need sanity right po...   \n",
       "\n",
       "               timestamp  \n",
       "7    2020-04-23 20:23:42  \n",
       "119  2020-12-22 16:19:39  \n",
       "134  2021-07-03 07:57:05  \n",
       "145  2019-01-27 00:42:09  \n",
       "161  2021-06-24 01:35:24  "
      ]
     },
     "execution_count": 16,
     "metadata": {},
     "output_type": "execute_result"
    }
   ],
   "source": [
    "df.head()"
   ]
  },
  {
   "cell_type": "markdown",
   "id": "084cfe47-b34b-41a3-a7a2-aa8f46647e4a",
   "metadata": {
    "tags": []
   },
   "source": [
    "## Analysis"
   ]
  },
  {
   "cell_type": "markdown",
   "id": "064c6ac4-5c39-4394-a0e4-a18dbd1f46c2",
   "metadata": {},
   "source": [
    "In our pursuit of answering the research question, we aimed to ensure a comprehensive and thorough analysis. As previously established, the primary objective of our research is to evaluate the impact of comments in terms of their emotional tone. Therefore, conducting a sentiment analysis was the most suitable approach for this evaluation. Consequently, we performed two sentiment analysis, one for the titles and another for the content of the posts themselves. Analyzing the sentiment of titles is crucial because they provide a preview of the post's content, despite potential variations in emotional tone between the titles and the actual post content. This approach allowed us to identify any inconsistencies in emotional tone between the two to better categorize their salience. It is important to consider this aspect since many titles are intentionally created as click bait to generate attention and traction, which is a prevalent phenomenon in the digital era. Moreover, the two sentiment analysis were necessary to examine the relationship between emotional tones and engagement in relation to salience. By evaluating the sentiment of titles and content separately, we could determine whether negative comments genuinely drive more engagement or if our hypothesis is flawed. Comparing the sentiment scores of negative comments with engagement metrics, such as upvotes, enabled us to establish a more accurate correlation between negative sentiment and increased engagement."
   ]
  },
  {
   "cell_type": "code",
   "execution_count": 17,
   "id": "94a6fb53-816e-4969-9dd2-89bd041951e2",
   "metadata": {
    "tags": []
   },
   "outputs": [
    {
     "data": {
      "text/html": [
       "<div>\n",
       "<style scoped>\n",
       "    .dataframe tbody tr th:only-of-type {\n",
       "        vertical-align: middle;\n",
       "    }\n",
       "\n",
       "    .dataframe tbody tr th {\n",
       "        vertical-align: top;\n",
       "    }\n",
       "\n",
       "    .dataframe thead th {\n",
       "        text-align: right;\n",
       "    }\n",
       "</style>\n",
       "<table border=\"1\" class=\"dataframe\">\n",
       "  <thead>\n",
       "    <tr style=\"text-align: right;\">\n",
       "      <th></th>\n",
       "      <th>title</th>\n",
       "      <th>score</th>\n",
       "      <th>id</th>\n",
       "      <th>url</th>\n",
       "      <th>comms_num</th>\n",
       "      <th>created</th>\n",
       "      <th>body</th>\n",
       "      <th>timestamp</th>\n",
       "    </tr>\n",
       "  </thead>\n",
       "  <tbody>\n",
       "    <tr>\n",
       "      <th>7</th>\n",
       "      <td>Fuck antivaxxing retards</td>\n",
       "      <td>10</td>\n",
       "      <td>g6jkhp</td>\n",
       "      <td>https://www.reddit.com/r/VaccineMyths/comments...</td>\n",
       "      <td>8</td>\n",
       "      <td>1.587663e+09</td>\n",
       "      <td>httpsyoutubezBkVCpbNnkU</td>\n",
       "      <td>2020-04-23 20:23:42</td>\n",
       "    </tr>\n",
       "    <tr>\n",
       "      <th>119</th>\n",
       "      <td>biologically possible insert 5G tracker human ...</td>\n",
       "      <td>9</td>\n",
       "      <td>khzpug</td>\n",
       "      <td>https://www.reddit.com/r/VaccineMyths/comments...</td>\n",
       "      <td>9</td>\n",
       "      <td>1.608647e+09</td>\n",
       "      <td>Although dont believe true COVID19 vaccine rec...</td>\n",
       "      <td>2020-12-22 16:19:39</td>\n",
       "    </tr>\n",
       "    <tr>\n",
       "      <th>134</th>\n",
       "      <td>dont see reason trust JJ vaccine</td>\n",
       "      <td>0</td>\n",
       "      <td>ocj9ws</td>\n",
       "      <td>https://www.reddit.com/r/VaccineMyths/comments...</td>\n",
       "      <td>4</td>\n",
       "      <td>1.625288e+09</td>\n",
       "      <td>company knew asbestos products aimed mothers b...</td>\n",
       "      <td>2021-07-03 07:57:05</td>\n",
       "    </tr>\n",
       "    <tr>\n",
       "      <th>145</th>\n",
       "      <td>Vaccine Survey</td>\n",
       "      <td>0</td>\n",
       "      <td>ak5ziq</td>\n",
       "      <td>https://www.reddit.com/r/VaccineMyths/comments...</td>\n",
       "      <td>5</td>\n",
       "      <td>1.548543e+09</td>\n",
       "      <td>Hi guys wondering could help research project ...</td>\n",
       "      <td>2019-01-27 00:42:09</td>\n",
       "    </tr>\n",
       "    <tr>\n",
       "      <th>161</th>\n",
       "      <td>rant please</td>\n",
       "      <td>13</td>\n",
       "      <td>o6nqcm</td>\n",
       "      <td>https://www.reddit.com/r/VaccineMyths/comments...</td>\n",
       "      <td>1</td>\n",
       "      <td>1.624488e+09</td>\n",
       "      <td>sure sub allows need vent need sanity right po...</td>\n",
       "      <td>2021-06-24 01:35:24</td>\n",
       "    </tr>\n",
       "  </tbody>\n",
       "</table>\n",
       "</div>"
      ],
      "text/plain": [
       "                                                 title  score      id  \\\n",
       "7                             Fuck antivaxxing retards     10  g6jkhp   \n",
       "119  biologically possible insert 5G tracker human ...      9  khzpug   \n",
       "134                   dont see reason trust JJ vaccine      0  ocj9ws   \n",
       "145                                     Vaccine Survey      0  ak5ziq   \n",
       "161                                        rant please     13  o6nqcm   \n",
       "\n",
       "                                                   url  comms_num  \\\n",
       "7    https://www.reddit.com/r/VaccineMyths/comments...          8   \n",
       "119  https://www.reddit.com/r/VaccineMyths/comments...          9   \n",
       "134  https://www.reddit.com/r/VaccineMyths/comments...          4   \n",
       "145  https://www.reddit.com/r/VaccineMyths/comments...          5   \n",
       "161  https://www.reddit.com/r/VaccineMyths/comments...          1   \n",
       "\n",
       "          created                                               body  \\\n",
       "7    1.587663e+09                            httpsyoutubezBkVCpbNnkU   \n",
       "119  1.608647e+09  Although dont believe true COVID19 vaccine rec...   \n",
       "134  1.625288e+09  company knew asbestos products aimed mothers b...   \n",
       "145  1.548543e+09  Hi guys wondering could help research project ...   \n",
       "161  1.624488e+09  sure sub allows need vent need sanity right po...   \n",
       "\n",
       "               timestamp  \n",
       "7    2020-04-23 20:23:42  \n",
       "119  2020-12-22 16:19:39  \n",
       "134  2021-07-03 07:57:05  \n",
       "145  2019-01-27 00:42:09  \n",
       "161  2021-06-24 01:35:24  "
      ]
     },
     "execution_count": 17,
     "metadata": {},
     "output_type": "execute_result"
    }
   ],
   "source": [
    "df.head()"
   ]
  },
  {
   "cell_type": "code",
   "execution_count": 18,
   "id": "b75d53f8-5c31-4361-af61-7ef443015543",
   "metadata": {
    "tags": []
   },
   "outputs": [],
   "source": [
    "# Creating a new column that adds the number of comments and the number of upvotes to a overall \"interactions\" column\n",
    "df['interaction'] = df['comms_num'] + df['score']"
   ]
  },
  {
   "cell_type": "markdown",
   "id": "aff3aba5-741a-40b1-9629-bc64f5996b13",
   "metadata": {},
   "source": [
    "## Sentiment Analysis"
   ]
  },
  {
   "cell_type": "code",
   "execution_count": 19,
   "id": "79a55c9b-587a-4679-84d7-ca8c8a7bdd44",
   "metadata": {
    "tags": []
   },
   "outputs": [],
   "source": [
    "sia = SentimentIntensityAnalyzer()\n",
    "\n",
    "# Calculate sentiment scores for body text\n",
    "df['body_sentiment'] = df['body'].apply(lambda x: sia.polarity_scores(x)['compound'])"
   ]
  },
  {
   "cell_type": "code",
   "execution_count": 20,
   "id": "cd99d584-1e2a-408f-a008-10592cf9e0d2",
   "metadata": {
    "tags": []
   },
   "outputs": [],
   "source": [
    "# Calculate sentiment scores for title\n",
    "df['title_sentiment'] = df['title'].apply(lambda x: sia.polarity_scores(x)['compound'])"
   ]
  },
  {
   "cell_type": "code",
   "execution_count": 22,
   "id": "11832ee1-0bcb-42d4-8b7e-e00013d4527f",
   "metadata": {
    "tags": []
   },
   "outputs": [
    {
     "data": {
      "text/html": [
       "<div>\n",
       "<style scoped>\n",
       "    .dataframe tbody tr th:only-of-type {\n",
       "        vertical-align: middle;\n",
       "    }\n",
       "\n",
       "    .dataframe tbody tr th {\n",
       "        vertical-align: top;\n",
       "    }\n",
       "\n",
       "    .dataframe thead th {\n",
       "        text-align: right;\n",
       "    }\n",
       "</style>\n",
       "<table border=\"1\" class=\"dataframe\">\n",
       "  <thead>\n",
       "    <tr style=\"text-align: right;\">\n",
       "      <th></th>\n",
       "      <th>title</th>\n",
       "      <th>score</th>\n",
       "      <th>id</th>\n",
       "      <th>url</th>\n",
       "      <th>comms_num</th>\n",
       "      <th>created</th>\n",
       "      <th>body</th>\n",
       "      <th>timestamp</th>\n",
       "      <th>interaction</th>\n",
       "      <th>body_sentiment</th>\n",
       "      <th>title_sentiment</th>\n",
       "    </tr>\n",
       "  </thead>\n",
       "  <tbody>\n",
       "    <tr>\n",
       "      <th>7</th>\n",
       "      <td>Fuck antivaxxing retards</td>\n",
       "      <td>10</td>\n",
       "      <td>g6jkhp</td>\n",
       "      <td>https://www.reddit.com/r/VaccineMyths/comments...</td>\n",
       "      <td>8</td>\n",
       "      <td>1.587663e+09</td>\n",
       "      <td>httpsyoutubezBkVCpbNnkU</td>\n",
       "      <td>2020-04-23 20:23:42</td>\n",
       "      <td>18</td>\n",
       "      <td>0.0000</td>\n",
       "      <td>-0.5423</td>\n",
       "    </tr>\n",
       "    <tr>\n",
       "      <th>119</th>\n",
       "      <td>biologically possible insert 5G tracker human ...</td>\n",
       "      <td>9</td>\n",
       "      <td>khzpug</td>\n",
       "      <td>https://www.reddit.com/r/VaccineMyths/comments...</td>\n",
       "      <td>9</td>\n",
       "      <td>1.608647e+09</td>\n",
       "      <td>Although dont believe true COVID19 vaccine rec...</td>\n",
       "      <td>2020-12-22 16:19:39</td>\n",
       "      <td>18</td>\n",
       "      <td>-0.4993</td>\n",
       "      <td>0.0000</td>\n",
       "    </tr>\n",
       "    <tr>\n",
       "      <th>134</th>\n",
       "      <td>dont see reason trust JJ vaccine</td>\n",
       "      <td>0</td>\n",
       "      <td>ocj9ws</td>\n",
       "      <td>https://www.reddit.com/r/VaccineMyths/comments...</td>\n",
       "      <td>4</td>\n",
       "      <td>1.625288e+09</td>\n",
       "      <td>company knew asbestos products aimed mothers b...</td>\n",
       "      <td>2021-07-03 07:57:05</td>\n",
       "      <td>4</td>\n",
       "      <td>-0.4708</td>\n",
       "      <td>0.0080</td>\n",
       "    </tr>\n",
       "    <tr>\n",
       "      <th>145</th>\n",
       "      <td>Vaccine Survey</td>\n",
       "      <td>0</td>\n",
       "      <td>ak5ziq</td>\n",
       "      <td>https://www.reddit.com/r/VaccineMyths/comments...</td>\n",
       "      <td>5</td>\n",
       "      <td>1.548543e+09</td>\n",
       "      <td>Hi guys wondering could help research project ...</td>\n",
       "      <td>2019-01-27 00:42:09</td>\n",
       "      <td>5</td>\n",
       "      <td>0.6597</td>\n",
       "      <td>0.0000</td>\n",
       "    </tr>\n",
       "    <tr>\n",
       "      <th>161</th>\n",
       "      <td>rant please</td>\n",
       "      <td>13</td>\n",
       "      <td>o6nqcm</td>\n",
       "      <td>https://www.reddit.com/r/VaccineMyths/comments...</td>\n",
       "      <td>1</td>\n",
       "      <td>1.624488e+09</td>\n",
       "      <td>sure sub allows need vent need sanity right po...</td>\n",
       "      <td>2021-06-24 01:35:24</td>\n",
       "      <td>14</td>\n",
       "      <td>-0.9433</td>\n",
       "      <td>-0.0258</td>\n",
       "    </tr>\n",
       "  </tbody>\n",
       "</table>\n",
       "</div>"
      ],
      "text/plain": [
       "                                                 title  score      id  \\\n",
       "7                             Fuck antivaxxing retards     10  g6jkhp   \n",
       "119  biologically possible insert 5G tracker human ...      9  khzpug   \n",
       "134                   dont see reason trust JJ vaccine      0  ocj9ws   \n",
       "145                                     Vaccine Survey      0  ak5ziq   \n",
       "161                                        rant please     13  o6nqcm   \n",
       "\n",
       "                                                   url  comms_num  \\\n",
       "7    https://www.reddit.com/r/VaccineMyths/comments...          8   \n",
       "119  https://www.reddit.com/r/VaccineMyths/comments...          9   \n",
       "134  https://www.reddit.com/r/VaccineMyths/comments...          4   \n",
       "145  https://www.reddit.com/r/VaccineMyths/comments...          5   \n",
       "161  https://www.reddit.com/r/VaccineMyths/comments...          1   \n",
       "\n",
       "          created                                               body  \\\n",
       "7    1.587663e+09                            httpsyoutubezBkVCpbNnkU   \n",
       "119  1.608647e+09  Although dont believe true COVID19 vaccine rec...   \n",
       "134  1.625288e+09  company knew asbestos products aimed mothers b...   \n",
       "145  1.548543e+09  Hi guys wondering could help research project ...   \n",
       "161  1.624488e+09  sure sub allows need vent need sanity right po...   \n",
       "\n",
       "               timestamp  interaction  body_sentiment  title_sentiment  \n",
       "7    2020-04-23 20:23:42           18          0.0000          -0.5423  \n",
       "119  2020-12-22 16:19:39           18         -0.4993           0.0000  \n",
       "134  2021-07-03 07:57:05            4         -0.4708           0.0080  \n",
       "145  2019-01-27 00:42:09            5          0.6597           0.0000  \n",
       "161  2021-06-24 01:35:24           14         -0.9433          -0.0258  "
      ]
     },
     "execution_count": 22,
     "metadata": {},
     "output_type": "execute_result"
    }
   ],
   "source": [
    "df.head()"
   ]
  },
  {
   "cell_type": "markdown",
   "id": "3caef045-d958-4ebb-8268-e5ff6f2a090a",
   "metadata": {
    "tags": []
   },
   "source": [
    "## Visualizations"
   ]
  },
  {
   "cell_type": "code",
   "execution_count": 45,
   "id": "71617d61-5acb-4425-aebe-2d9c972115d5",
   "metadata": {
    "tags": []
   },
   "outputs": [
    {
     "data": {
      "image/png": "[encoded data removed]",
      "text/plain": [
       "<Figure size 1000x600 with 1 Axes>"
      ]
     },
     "metadata": {},
     "output_type": "display_data"
    }
   ],
   "source": [
    "# Visualization: Post Sentiment vs. Upvotes\n",
    "\n",
    "plt.figure(figsize=(10, 6))\n",
    "sns.scatterplot(x='interaction', y='body_sentiment', data=df)\n",
    "plt.xlabel('Post Interactions')\n",
    "plt.ylabel('Body Sentiment Score')\n",
    "plt.title('Body Sentiment vs. Post Interactions')\n",
    "plt.show()"
   ]
  },
  {
   "cell_type": "code",
   "execution_count": 39,
   "id": "0da3d867-10fb-4ff8-93c6-01bd2315ff39",
   "metadata": {
    "tags": []
   },
   "outputs": [
    {
     "data": {
      "image/png": "[encoded data removed]",
      "text/plain": [
       "<Figure size 1000x600 with 1 Axes>"
      ]
     },
     "metadata": {},
     "output_type": "display_data"
    }
   ],
   "source": [
    "# Visualization: Title Sentiment vs. Upvotes\n",
    "\n",
    "plt.figure(figsize=(10, 6))\n",
    "sns.scatterplot(x='interaction', y='title_sentiment', data=df)\n",
    "plt.xlabel('Post Interactions')\n",
    "plt.ylabel('Title Sentiment Score')\n",
    "plt.title('Title Sentiment vs. Post Interactions')\n",
    "plt.show()"
   ]
  },
  {
   "cell_type": "code",
   "execution_count": 33,
   "id": "5115f3f9-b98a-48a9-a586-9a9f878c1ea1",
   "metadata": {
    "tags": []
   },
   "outputs": [],
   "source": [
    "# Adding a new column that converts the 'timestamp' column to include only the time\n",
    "df['time'] = pd.to_datetime(df['timestamp'])"
   ]
  },
  {
   "cell_type": "code",
   "execution_count": 34,
   "id": "24e2c259-1b7d-42a3-b5e9-f11236ca27dc",
   "metadata": {
    "tags": []
   },
   "outputs": [],
   "source": [
    "# Create a new column with only the times\n",
    "df['time_only'] = df['time'].dt.hour"
   ]
  },
  {
   "cell_type": "code",
   "execution_count": 35,
   "id": "55099e22-e83b-4bcd-9272-1751b9809cd3",
   "metadata": {
    "tags": []
   },
   "outputs": [],
   "source": [
    "# Convert the hours to standard time format\n",
    "df['time_only'] = df['time_only'].apply(lambda x: pd.to_datetime(x, format='%H').strftime('%I:%M %p'))"
   ]
  },
  {
   "cell_type": "code",
   "execution_count": 36,
   "id": "09a5372c-20b7-45b2-b165-2e553aa1fd5f",
   "metadata": {
    "tags": []
   },
   "outputs": [],
   "source": [
    "time_order = ['12:00 AM', '1:00 AM', '2:00 AM', '3:00 AM', '4:00 AM', '5:00 AM', '6:00 AM', '7:00 AM',\n",
    "                '8:00 AM', '9:00 AM', '10:00 AM', '11:00 AM', '12:00 PM', '1:00 PM', '2:00 PM', '3:00 PM',\n",
    "                '4:00 PM', '5:00 PM', '6:00 PM', '7:00 PM', '8:00 PM', '9:00 PM', '10:00 PM', '11:00 PM']\n",
    "df['time_only'] = pd.Categorical(df['time_only'], categories=time_order, ordered=True)"
   ]
  },
  {
   "cell_type": "code",
   "execution_count": 37,
   "id": "396e5b0c-f31f-4112-9fc0-905ff905c2c8",
   "metadata": {},
   "outputs": [],
   "source": [
    "df = df.sort_values('time_only')"
   ]
  },
  {
   "cell_type": "code",
   "execution_count": 40,
   "id": "bd1d3042-a141-4523-af29-4521d6615950",
   "metadata": {
    "tags": []
   },
   "outputs": [
    {
     "data": {
      "image/png": "[encoded data removed]",
      "text/plain": [
       "<Figure size 1000x600 with 1 Axes>"
      ]
     },
     "metadata": {},
     "output_type": "display_data"
    }
   ],
   "source": [
    "# Visualization: Time of Day vs. Post Interactions\n",
    "\n",
    "plt.figure(figsize=(10, 6))\n",
    "sns.barplot(x='time_only', y='interaction', data=df)\n",
    "plt.xlabel('Time of Day')\n",
    "plt.ylabel('Post Interactions')\n",
    "plt.xticks(rotation=45)\n",
    "plt.title('Time of Day vs. Post Interaction')\n",
    "plt.show()"
   ]
  },
  {
   "cell_type": "markdown",
   "id": "7e07b044-5631-420f-9e95-abb0c1155db5",
   "metadata": {
    "tags": []
   },
   "source": [
    "## Results/Findings"
   ]
  },
  {
   "cell_type": "markdown",
   "id": "9f72d3b6-edf9-4dce-a04c-1787b822d625",
   "metadata": {},
   "source": [
    "### Research Question # 1: Do higher/lower salience scores contribute to more engagement?\n",
    "\n",
    "In relation to our body sentiment graph we found that the reddit posts with a more positive sentiment had more post interactions (comments and upvotes) compared to posts with negative segment. Overall this examines how post interactions were not increased if the sentiment score was more negative. Our data showed us that the posts that had more positive language (and therefor more positive sentiment) had more cumulative comments and upvotes compared to negative body sentiment posts. \n",
    "\n",
    "In analyzing our second graph we were testing to see if there were longer post interactions with a negative/sarcastic heading title. Our data proved that our sentiment score had similar range in post interactions even if the heading was sarcastic or not. There was no stronger time spent on posts depending if the title had or did not have sarcastic language. According to information processing theory, how individuals receive, encode, process, and decode information in communication, we hypothesized that applying this theory to sarcasm analysis would help explore the cognitive processes involved in accurately interpreting sarcastic messages. Information processing theory considers factors such as attention, memory, and cognitive load that affect accuracy in understanding sarcasm. Through our results we were shown that whether the title was sarcastic or not, there was a similar time spent on reading the title. "
   ]
  },
  {
   "cell_type": "markdown",
   "id": "88ac608f-7424-46bd-a768-ad60664e6332",
   "metadata": {},
   "source": [
    "### Research Question # 2:  Is there optimal time to post to get the highest engagement on this subreddit?\n",
    "\n",
    "In our third graph regarding time of day vs post interaction, we observed there are three blocks of times where posts tended to get the most interactions.. The top times with the most post interactions (in order) were 10 AM, 10 PM, and 12 AM. 10 PM seems to have the biggest outlier, with one post in the dataset being posted at that time doing extremely well with over 70 interactions, however, it seems like generally the best times to post on this subreddit is 10 AM - 12 PM, or late in the evening. "
   ]
  },
  {
   "cell_type": "markdown",
   "id": "bf9f697b-2a21-4460-b47c-b27a17a4db7e",
   "metadata": {
    "tags": []
   },
   "source": [
    "## Contribution"
   ]
  },
  {
   "cell_type": "markdown",
   "id": "448c8806-e0e3-4e0b-bcc8-002f2539e5ea",
   "metadata": {},
   "source": [
    "- Caren Chua: Data Visualizations\n",
    "- Abby Salas: Data cleaning\n",
    "- Courtney Collins: Writing results/findings\n",
    "- Arggin Avanessian: Crafted research questions "
   ]
  }
 ],
 "metadata": {
  "kernelspec": {
   "display_name": "Python 3 (ipykernel)",
   "language": "python",
   "name": "python3"
  },
  "language_info": {
   "codemirror_mode": {
    "name": "ipython",
    "version": 3
   },
   "file_extension": ".py",
   "mimetype": "text/x-python",
   "name": "python",
   "nbconvert_exporter": "python",
   "pygments_lexer": "ipython3",
   "version": "3.10.9"
  }
 },
 "nbformat": 4,
 "nbformat_minor": 5
}
